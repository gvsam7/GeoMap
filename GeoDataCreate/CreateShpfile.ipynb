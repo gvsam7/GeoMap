{
 "cells": [
  {
   "cell_type": "code",
   "execution_count": 1,
   "outputs": [],
   "source": [
    "import fiona\n",
    "import pandas as pd\n",
    "import os\n",
    "from collections import OrderedDict"
   ],
   "metadata": {
    "collapsed": false,
    "pycharm": {
     "name": "#%%\n"
    }
   }
  },
  {
   "cell_type": "code",
   "execution_count": 2,
   "outputs": [],
   "source": [
    "path = r'C:\\Users\\Georgios.Voulgaris\\PycharmProjects\\GeoMap\\data'"
   ],
   "metadata": {
    "collapsed": false,
    "pycharm": {
     "name": "#%%\n"
    }
   }
  },
  {
   "cell_type": "code",
   "execution_count": 3,
   "outputs": [
    {
     "data": {
      "text/plain": "           uid          city     state      country iso3  country_code  \\\n0  GACTAFG0001  Pol-e Khomri   Baghlan  Afghanistan  AFG           4.0   \n1  GACTAFG0002         Injil     Herat  Afghanistan  AFG           4.0   \n2  GACTAGO0001        Luanda    Luanda       Angola  AGO          24.0   \n3  GACTAGO0002       Cacuaco    Luanda       Angola  AGO          24.0   \n4  GACTAGO0003        Lobito  Benguela       Angola  AGO          24.0   \n\n   region          sub_region   latitude  longitude  ...  \\\n0    Asia       Southern Asia  35.965800  68.686338  ...   \n1    Asia       Southern Asia  34.322144  61.953503  ...   \n2  Africa  Sub-Saharan Africa  -8.766173  13.316051  ...   \n3  Africa  Sub-Saharan Africa  -8.796392  13.426780  ...   \n4  Africa  Sub-Saharan Africa -12.342644  13.581766  ...   \n\n  parent_holding_status parent_ticker parent_exchange parent_permid_2  \\\n0                   NaN           NaN             NaN             NaN   \n1                   NaN           NaN             NaN             NaN   \n2               Private           NaN             NaN             NaN   \n3               Private           NaN             NaN             NaN   \n4               Private           NaN             NaN             NaN   \n\n   parent_name_2 ownership_stake_2  parent_lei_2  parent_holding_status_2  \\\n0            NaN               NaN           NaN                      NaN   \n1            NaN               NaN           NaN                      NaN   \n2            NaN               NaN           NaN                      NaN   \n3            NaN               NaN           NaN                      NaN   \n4            NaN               NaN           NaN                      NaN   \n\n  parent_ticker_2 parent_exchange_2  \n0             NaN               NaN  \n1             NaN               NaN  \n2             NaN               NaN  \n3             NaN               NaN  \n4             NaN               NaN  \n\n[5 rows x 34 columns]",
      "text/html": "<div>\n<style scoped>\n    .dataframe tbody tr th:only-of-type {\n        vertical-align: middle;\n    }\n\n    .dataframe tbody tr th {\n        vertical-align: top;\n    }\n\n    .dataframe thead th {\n        text-align: right;\n    }\n</style>\n<table border=\"1\" class=\"dataframe\">\n  <thead>\n    <tr style=\"text-align: right;\">\n      <th></th>\n      <th>uid</th>\n      <th>city</th>\n      <th>state</th>\n      <th>country</th>\n      <th>iso3</th>\n      <th>country_code</th>\n      <th>region</th>\n      <th>sub_region</th>\n      <th>latitude</th>\n      <th>longitude</th>\n      <th>...</th>\n      <th>parent_holding_status</th>\n      <th>parent_ticker</th>\n      <th>parent_exchange</th>\n      <th>parent_permid_2</th>\n      <th>parent_name_2</th>\n      <th>ownership_stake_2</th>\n      <th>parent_lei_2</th>\n      <th>parent_holding_status_2</th>\n      <th>parent_ticker_2</th>\n      <th>parent_exchange_2</th>\n    </tr>\n  </thead>\n  <tbody>\n    <tr>\n      <th>0</th>\n      <td>GACTAFG0001</td>\n      <td>Pol-e Khomri</td>\n      <td>Baghlan</td>\n      <td>Afghanistan</td>\n      <td>AFG</td>\n      <td>4.0</td>\n      <td>Asia</td>\n      <td>Southern Asia</td>\n      <td>35.965800</td>\n      <td>68.686338</td>\n      <td>...</td>\n      <td>NaN</td>\n      <td>NaN</td>\n      <td>NaN</td>\n      <td>NaN</td>\n      <td>NaN</td>\n      <td>NaN</td>\n      <td>NaN</td>\n      <td>NaN</td>\n      <td>NaN</td>\n      <td>NaN</td>\n    </tr>\n    <tr>\n      <th>1</th>\n      <td>GACTAFG0002</td>\n      <td>Injil</td>\n      <td>Herat</td>\n      <td>Afghanistan</td>\n      <td>AFG</td>\n      <td>4.0</td>\n      <td>Asia</td>\n      <td>Southern Asia</td>\n      <td>34.322144</td>\n      <td>61.953503</td>\n      <td>...</td>\n      <td>NaN</td>\n      <td>NaN</td>\n      <td>NaN</td>\n      <td>NaN</td>\n      <td>NaN</td>\n      <td>NaN</td>\n      <td>NaN</td>\n      <td>NaN</td>\n      <td>NaN</td>\n      <td>NaN</td>\n    </tr>\n    <tr>\n      <th>2</th>\n      <td>GACTAGO0001</td>\n      <td>Luanda</td>\n      <td>Luanda</td>\n      <td>Angola</td>\n      <td>AGO</td>\n      <td>24.0</td>\n      <td>Africa</td>\n      <td>Sub-Saharan Africa</td>\n      <td>-8.766173</td>\n      <td>13.316051</td>\n      <td>...</td>\n      <td>Private</td>\n      <td>NaN</td>\n      <td>NaN</td>\n      <td>NaN</td>\n      <td>NaN</td>\n      <td>NaN</td>\n      <td>NaN</td>\n      <td>NaN</td>\n      <td>NaN</td>\n      <td>NaN</td>\n    </tr>\n    <tr>\n      <th>3</th>\n      <td>GACTAGO0002</td>\n      <td>Cacuaco</td>\n      <td>Luanda</td>\n      <td>Angola</td>\n      <td>AGO</td>\n      <td>24.0</td>\n      <td>Africa</td>\n      <td>Sub-Saharan Africa</td>\n      <td>-8.796392</td>\n      <td>13.426780</td>\n      <td>...</td>\n      <td>Private</td>\n      <td>NaN</td>\n      <td>NaN</td>\n      <td>NaN</td>\n      <td>NaN</td>\n      <td>NaN</td>\n      <td>NaN</td>\n      <td>NaN</td>\n      <td>NaN</td>\n      <td>NaN</td>\n    </tr>\n    <tr>\n      <th>4</th>\n      <td>GACTAGO0003</td>\n      <td>Lobito</td>\n      <td>Benguela</td>\n      <td>Angola</td>\n      <td>AGO</td>\n      <td>24.0</td>\n      <td>Africa</td>\n      <td>Sub-Saharan Africa</td>\n      <td>-12.342644</td>\n      <td>13.581766</td>\n      <td>...</td>\n      <td>Private</td>\n      <td>NaN</td>\n      <td>NaN</td>\n      <td>NaN</td>\n      <td>NaN</td>\n      <td>NaN</td>\n      <td>NaN</td>\n      <td>NaN</td>\n      <td>NaN</td>\n      <td>NaN</td>\n    </tr>\n  </tbody>\n</table>\n<p>5 rows × 34 columns</p>\n</div>"
     },
     "execution_count": 3,
     "metadata": {},
     "output_type": "execute_result"
    }
   ],
   "source": [
    "# Open a total coliform table\n",
    "SFIGlobalCementDatabase = pd.read_excel(os.path.join(path, 'SFI-Global-Cement-Database-July-2021.xlsx'))\n",
    "SFIGlobalCementDatabase.head()"
   ],
   "metadata": {
    "collapsed": false,
    "pycharm": {
     "name": "#%%\n"
    }
   }
  },
  {
   "cell_type": "code",
   "execution_count": 4,
   "outputs": [
    {
     "data": {
      "text/plain": "uid                         object\ncity                        object\nstate                       object\ncountry                     object\niso3                        object\ncountry_code               float64\nregion                      object\nsub_region                  object\nlatitude                   float64\nlongitude                  float64\naccuracy                    object\nstatus                      object\nplant_type                  object\nproduction_type             object\ncapacity                   float64\ncapacity_source             object\nyear                       float64\nowner_permid               float64\nowner_name                  object\nowner_source                object\nparent_permid              float64\nparent_name                 object\nownership_stake            float64\nparent_lei                  object\nparent_holding_status       object\nparent_ticker               object\nparent_exchange             object\nparent_permid_2            float64\nparent_name_2               object\nownership_stake_2          float64\nparent_lei_2                object\nparent_holding_status_2     object\nparent_ticker_2             object\nparent_exchange_2           object\ndtype: object"
     },
     "execution_count": 4,
     "metadata": {},
     "output_type": "execute_result"
    }
   ],
   "source": [
    "SFIGlobalCementDatabase.dtypes"
   ],
   "metadata": {
    "collapsed": false,
    "pycharm": {
     "name": "#%%\n"
    }
   }
  },
  {
   "cell_type": "code",
   "execution_count": 5,
   "outputs": [],
   "source": [
    "# Exporting resulting data as geopackage\n",
    "\n",
    "# Create schema and define crs\n",
    "schema = {'properties': OrderedDict([('uid', 'str'), ('city', 'str'), ('state', 'str'), ('country', 'str')]),\n",
    "          'geometry': 'Point'}\n",
    "crs = {'init': 'epsg: 4326'}"
   ],
   "metadata": {
    "collapsed": false,
    "pycharm": {
     "name": "#%%\n"
    }
   }
  },
  {
   "cell_type": "code",
   "execution_count": 6,
   "outputs": [],
   "source": [
    "# Open output shapefile\n",
    "cementShp = fiona.open('SFIGlobalCementDatabase.shp',mode='w',schema=schema,driver='ESRI Shapefile',crs=crs)"
   ],
   "metadata": {
    "collapsed": false,
    "pycharm": {
     "name": "#%%\n"
    }
   }
  },
  {
   "cell_type": "code",
   "execution_count": 7,
   "outputs": [],
   "source": [
    "for index, line in SFIGlobalCementDatabase.iterrows():\n",
    "    feature = {\n",
    "    'geometry':{'type':'Point','coordinates':(line.longitude,line.latitude)},\n",
    "    'properties':OrderedDict([('uid',line['uid']), ('city', line['city']), ('state', line['state']), ('country', line['country'])])\n",
    "    }\n",
    "    cementShp.write(feature)\n",
    "cementShp.close()"
   ],
   "metadata": {
    "collapsed": false,
    "pycharm": {
     "name": "#%%\n"
    }
   }
  },
  {
   "cell_type": "code",
   "execution_count": 8,
   "outputs": [
    {
     "data": {
      "text/plain": "           uid          city     state      country  \\\n0  GACTAFG0001  Pol-e Khomri   Baghlan  Afghanistan   \n1  GACTAFG0002         Injil     Herat  Afghanistan   \n2  GACTAGO0001        Luanda    Luanda       Angola   \n3  GACTAGO0002       Cacuaco    Luanda       Angola   \n4  GACTAGO0003        Lobito  Benguela       Angola   \n\n                     geometry  \n0   POINT (68.68634 35.96580)  \n1   POINT (61.95350 34.32214)  \n2   POINT (13.31605 -8.76617)  \n3   POINT (13.42678 -8.79639)  \n4  POINT (13.58177 -12.34264)  ",
      "text/html": "<div>\n<style scoped>\n    .dataframe tbody tr th:only-of-type {\n        vertical-align: middle;\n    }\n\n    .dataframe tbody tr th {\n        vertical-align: top;\n    }\n\n    .dataframe thead th {\n        text-align: right;\n    }\n</style>\n<table border=\"1\" class=\"dataframe\">\n  <thead>\n    <tr style=\"text-align: right;\">\n      <th></th>\n      <th>uid</th>\n      <th>city</th>\n      <th>state</th>\n      <th>country</th>\n      <th>geometry</th>\n    </tr>\n  </thead>\n  <tbody>\n    <tr>\n      <th>0</th>\n      <td>GACTAFG0001</td>\n      <td>Pol-e Khomri</td>\n      <td>Baghlan</td>\n      <td>Afghanistan</td>\n      <td>POINT (68.68634 35.96580)</td>\n    </tr>\n    <tr>\n      <th>1</th>\n      <td>GACTAFG0002</td>\n      <td>Injil</td>\n      <td>Herat</td>\n      <td>Afghanistan</td>\n      <td>POINT (61.95350 34.32214)</td>\n    </tr>\n    <tr>\n      <th>2</th>\n      <td>GACTAGO0001</td>\n      <td>Luanda</td>\n      <td>Luanda</td>\n      <td>Angola</td>\n      <td>POINT (13.31605 -8.76617)</td>\n    </tr>\n    <tr>\n      <th>3</th>\n      <td>GACTAGO0002</td>\n      <td>Cacuaco</td>\n      <td>Luanda</td>\n      <td>Angola</td>\n      <td>POINT (13.42678 -8.79639)</td>\n    </tr>\n    <tr>\n      <th>4</th>\n      <td>GACTAGO0003</td>\n      <td>Lobito</td>\n      <td>Benguela</td>\n      <td>Angola</td>\n      <td>POINT (13.58177 -12.34264)</td>\n    </tr>\n  </tbody>\n</table>\n</div>"
     },
     "execution_count": 8,
     "metadata": {},
     "output_type": "execute_result"
    }
   ],
   "source": [
    "import geopandas as gpd\n",
    "china = gpd.read_file(\"SFIGlobalCementDatabase.shp\")\n",
    "china.head()"
   ],
   "metadata": {
    "collapsed": false,
    "pycharm": {
     "name": "#%%\n"
    }
   }
  },
  {
   "cell_type": "code",
   "execution_count": 9,
   "outputs": [
    {
     "data": {
      "text/plain": "           uid          city     state      country  \\\n0  GACTAFG0001  Pol-e Khomri   Baghlan  Afghanistan   \n1  GACTAFG0002         Injil     Herat  Afghanistan   \n2  GACTAGO0001        Luanda    Luanda       Angola   \n3  GACTAGO0002       Cacuaco    Luanda       Angola   \n4  GACTAGO0003        Lobito  Benguela       Angola   \n\n                           geometry  \n0   POINT (7646128.171 4270820.758)  \n1   POINT (6896632.407 4048048.571)  \n2   POINT (1482336.017 -973167.976)  \n3   POINT (1494662.313 -976549.580)  \n4  POINT (1511915.275 -1375600.659)  ",
      "text/html": "<div>\n<style scoped>\n    .dataframe tbody tr th:only-of-type {\n        vertical-align: middle;\n    }\n\n    .dataframe tbody tr th {\n        vertical-align: top;\n    }\n\n    .dataframe thead th {\n        text-align: right;\n    }\n</style>\n<table border=\"1\" class=\"dataframe\">\n  <thead>\n    <tr style=\"text-align: right;\">\n      <th></th>\n      <th>uid</th>\n      <th>city</th>\n      <th>state</th>\n      <th>country</th>\n      <th>geometry</th>\n    </tr>\n  </thead>\n  <tbody>\n    <tr>\n      <th>0</th>\n      <td>GACTAFG0001</td>\n      <td>Pol-e Khomri</td>\n      <td>Baghlan</td>\n      <td>Afghanistan</td>\n      <td>POINT (7646128.171 4270820.758)</td>\n    </tr>\n    <tr>\n      <th>1</th>\n      <td>GACTAFG0002</td>\n      <td>Injil</td>\n      <td>Herat</td>\n      <td>Afghanistan</td>\n      <td>POINT (6896632.407 4048048.571)</td>\n    </tr>\n    <tr>\n      <th>2</th>\n      <td>GACTAGO0001</td>\n      <td>Luanda</td>\n      <td>Luanda</td>\n      <td>Angola</td>\n      <td>POINT (1482336.017 -973167.976)</td>\n    </tr>\n    <tr>\n      <th>3</th>\n      <td>GACTAGO0002</td>\n      <td>Cacuaco</td>\n      <td>Luanda</td>\n      <td>Angola</td>\n      <td>POINT (1494662.313 -976549.580)</td>\n    </tr>\n    <tr>\n      <th>4</th>\n      <td>GACTAGO0003</td>\n      <td>Lobito</td>\n      <td>Benguela</td>\n      <td>Angola</td>\n      <td>POINT (1511915.275 -1375600.659)</td>\n    </tr>\n  </tbody>\n</table>\n</div>"
     },
     "execution_count": 9,
     "metadata": {},
     "output_type": "execute_result"
    }
   ],
   "source": [
    "#Convert crs to UTM\n",
    "geo_df_UTM = china.to_crs(epsg = 3395)\n",
    "geo_df_UTM.head()"
   ],
   "metadata": {
    "collapsed": false,
    "pycharm": {
     "name": "#%%\n"
    }
   }
  },
  {
   "cell_type": "code",
   "execution_count": 10,
   "outputs": [
    {
     "data": {
      "text/plain": "           uid          city     state      country  \\\n0  GACTAFG0001  Pol-e Khomri   Baghlan  Afghanistan   \n1  GACTAFG0002         Injil     Herat  Afghanistan   \n2  GACTAGO0001        Luanda    Luanda       Angola   \n3  GACTAGO0002       Cacuaco    Luanda       Angola   \n4  GACTAGO0003        Lobito  Benguela       Angola   \n\n                     geometry  \n0   POINT (68.68634 35.96580)  \n1   POINT (61.95350 34.32214)  \n2   POINT (13.31605 -8.76617)  \n3   POINT (13.42678 -8.79639)  \n4  POINT (13.58177 -12.34264)  ",
      "text/html": "<div>\n<style scoped>\n    .dataframe tbody tr th:only-of-type {\n        vertical-align: middle;\n    }\n\n    .dataframe tbody tr th {\n        vertical-align: top;\n    }\n\n    .dataframe thead th {\n        text-align: right;\n    }\n</style>\n<table border=\"1\" class=\"dataframe\">\n  <thead>\n    <tr style=\"text-align: right;\">\n      <th></th>\n      <th>uid</th>\n      <th>city</th>\n      <th>state</th>\n      <th>country</th>\n      <th>geometry</th>\n    </tr>\n  </thead>\n  <tbody>\n    <tr>\n      <th>0</th>\n      <td>GACTAFG0001</td>\n      <td>Pol-e Khomri</td>\n      <td>Baghlan</td>\n      <td>Afghanistan</td>\n      <td>POINT (68.68634 35.96580)</td>\n    </tr>\n    <tr>\n      <th>1</th>\n      <td>GACTAFG0002</td>\n      <td>Injil</td>\n      <td>Herat</td>\n      <td>Afghanistan</td>\n      <td>POINT (61.95350 34.32214)</td>\n    </tr>\n    <tr>\n      <th>2</th>\n      <td>GACTAGO0001</td>\n      <td>Luanda</td>\n      <td>Luanda</td>\n      <td>Angola</td>\n      <td>POINT (13.31605 -8.76617)</td>\n    </tr>\n    <tr>\n      <th>3</th>\n      <td>GACTAGO0002</td>\n      <td>Cacuaco</td>\n      <td>Luanda</td>\n      <td>Angola</td>\n      <td>POINT (13.42678 -8.79639)</td>\n    </tr>\n    <tr>\n      <th>4</th>\n      <td>GACTAGO0003</td>\n      <td>Lobito</td>\n      <td>Benguela</td>\n      <td>Angola</td>\n      <td>POINT (13.58177 -12.34264)</td>\n    </tr>\n  </tbody>\n</table>\n</div>"
     },
     "execution_count": 10,
     "metadata": {},
     "output_type": "execute_result"
    }
   ],
   "source": [
    "china.head()"
   ],
   "metadata": {
    "collapsed": false,
    "pycharm": {
     "name": "#%%\n"
    }
   }
  },
  {
   "cell_type": "code",
   "execution_count": 11,
   "outputs": [
    {
     "data": {
      "text/plain": "<Geographic 2D CRS: EPSG:4326>\nName: WGS 84\nAxis Info [ellipsoidal]:\n- Lat[north]: Geodetic latitude (degree)\n- Lon[east]: Geodetic longitude (degree)\nArea of Use:\n- name: World.\n- bounds: (-180.0, -90.0, 180.0, 90.0)\nDatum: World Geodetic System 1984 ensemble\n- Ellipsoid: WGS 84\n- Prime Meridian: Greenwich"
     },
     "execution_count": 11,
     "metadata": {},
     "output_type": "execute_result"
    }
   ],
   "source": [
    "china.crs"
   ],
   "metadata": {
    "collapsed": false,
    "pycharm": {
     "name": "#%%\n"
    }
   }
  },
  {
   "cell_type": "code",
   "execution_count": 12,
   "outputs": [
    {
     "data": {
      "text/plain": "<Figure size 432x288 with 1 Axes>",
      "image/png": "[encoded data removed]"
     },
     "metadata": {
      "needs_background": "light"
     },
     "output_type": "display_data"
    }
   ],
   "source": [
    "ax = china.plot()\n",
    "ax.set_title(\"WGS84 (lat/lon)\");"
   ],
   "metadata": {
    "collapsed": false,
    "pycharm": {
     "name": "#%%\n"
    }
   }
  },
  {
   "cell_type": "code",
   "execution_count": 13,
   "outputs": [],
   "source": [
    "china = china.to_crs(\"EPSG:3395\")"
   ],
   "metadata": {
    "collapsed": false,
    "pycharm": {
     "name": "#%%\n"
    }
   }
  },
  {
   "cell_type": "code",
   "execution_count": 14,
   "outputs": [
    {
     "data": {
      "text/plain": "Text(0.5, 1.0, 'Mercator')"
     },
     "execution_count": 14,
     "metadata": {},
     "output_type": "execute_result"
    },
    {
     "data": {
      "text/plain": "<Figure size 432x288 with 1 Axes>",
      "image/png": "[encoded data removed]"
     },
     "metadata": {
      "needs_background": "light"
     },
     "output_type": "display_data"
    }
   ],
   "source": [
    "ax = china.plot()\n",
    "ax.set_title('Mercator')"
   ],
   "metadata": {
    "collapsed": false,
    "pycharm": {
     "name": "#%%\n"
    }
   }
  },
  {
   "cell_type": "code",
   "execution_count": 15,
   "outputs": [
    {
     "data": {
      "text/plain": "<Derived Projected CRS: EPSG:3395>\nName: WGS 84 / World Mercator\nAxis Info [cartesian]:\n- E[east]: Easting (metre)\n- N[north]: Northing (metre)\nArea of Use:\n- name: World between 80°S and 84°N.\n- bounds: (-180.0, -80.0, 180.0, 84.0)\nCoordinate Operation:\n- name: World Mercator\n- method: Mercator (variant A)\nDatum: World Geodetic System 1984 ensemble\n- Ellipsoid: WGS 84\n- Prime Meridian: Greenwich"
     },
     "execution_count": 15,
     "metadata": {},
     "output_type": "execute_result"
    }
   ],
   "source": [
    "china.crs"
   ],
   "metadata": {
    "collapsed": false,
    "pycharm": {
     "name": "#%%\n"
    }
   }
  },
  {
   "cell_type": "code",
   "execution_count": 16,
   "outputs": [],
   "source": [
    "outpath = r'C:\\Users\\Georgios.Voulgaris\\PycharmProjects\\GeoMap\\data'"
   ],
   "metadata": {
    "collapsed": false,
    "pycharm": {
     "name": "#%%\n"
    }
   }
  },
  {
   "cell_type": "code",
   "execution_count": 17,
   "outputs": [
    {
     "name": "stderr",
     "output_type": "stream",
     "text": [
      "C:\\Users\\Georgios.Voulgaris\\Anaconda3\\envs\\GeoEnv\\lib\\site-packages\\geopandas\\io\\file.py:362: FutureWarning: pandas.Int64Index is deprecated and will be removed from pandas in a future version. Use pandas.Index with the appropriate dtype instead.\n",
      "  pd.Int64Index,\n"
     ]
    }
   ],
   "source": [
    "china.to_file(os.path.join(outpath,'china.geojson'), driver='GeoJSON')"
   ],
   "metadata": {
    "collapsed": false,
    "pycharm": {
     "name": "#%%\n"
    }
   }
  },
  {
   "cell_type": "code",
   "execution_count": null,
   "metadata": {
    "collapsed": true
   },
   "outputs": [],
   "source": []
  }
 ],
 "metadata": {
  "kernelspec": {
   "display_name": "Python 3",
   "language": "python",
   "name": "python3"
  },
  "language_info": {
   "codemirror_mode": {
    "name": "ipython",
    "version": 2
   },
   "file_extension": ".py",
   "mimetype": "text/x-python",
   "name": "python",
   "nbconvert_exporter": "python",
   "pygments_lexer": "ipython2",
   "version": "2.7.6"
  }
 },
 "nbformat": 4,
 "nbformat_minor": 0
}
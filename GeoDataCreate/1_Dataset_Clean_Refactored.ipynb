{
 "cells": [
  {
   "cell_type": "markdown",
   "source": [
    "## This notebook contains refactored code for:\n",
    "- creating ~1km square box shapefiles for cement and steel data for China\n",
    "- over ~1km is chosen so that the image chips are big enough to then crop down to the standard 256 x 256 pixels once the chips are downloaded\n",
    "- Landcover polygons are also created around cement plants"
   ],
   "metadata": {
    "collapsed": false
   }
  },
  {
   "cell_type": "code",
   "execution_count": 1,
   "outputs": [],
   "source": [
    "import geopandas as gpd\n",
    "from geopandas import GeoDataFrame\n",
    "import pandas as pd\n",
    "from shapely.geometry import Point,Polygon, LineString\n",
    "import os, sys\n",
    "import matplotlib.pyplot as plt\n",
    "%matplotlib inline\n",
    "import fiona\n",
    "import numpy as np\n",
    "import time\n"
   ],
   "metadata": {
    "collapsed": false,
    "pycharm": {
     "name": "#%%\n"
    }
   }
  },
  {
   "cell_type": "code",
   "execution_count": 2,
   "outputs": [],
   "source": [
    "cempath = r'C:\\Users\\Georgios.Voulgaris\\PycharmProjects\\GeoMap\\data'\n",
    "\n",
    "steelpath = r'C:\\\\Users\\\\Maral.Bayaraa\\\\OneDrive - Satellite Applications Catapult\\\\Projects-Maral-Z\\\\SustainableFinance\\\\ALD_Phase2\\\\steel_polys\\\\'"
   ],
   "metadata": {
    "collapsed": false,
    "pycharm": {
     "name": "#%%\n"
    }
   }
  },
  {
   "cell_type": "code",
   "execution_count": 3,
   "outputs": [],
   "source": [
    "def create_polys(path, filename, planttype):\n",
    "\n",
    "\n",
    "    #open the file\n",
    "    df = pd.read_excel(os.path.join(path, filename))\n",
    "\n",
    "\n",
    "    #make sure there's no NaN location\n",
    "    df = df[df['latitude'].notnull()]\n",
    "\n",
    "    #define the geometry\n",
    "    geometry = [Point(xy) for xy in zip(df.longitude, df.latitude)]\n",
    "    #Create a geodataframe\n",
    "    geo_df = gpd.GeoDataFrame(df, geometry=geometry)\n",
    "    geo_df.crs = (\"epsg:4326\")\n",
    "\n",
    "    #Convert crs to UTM\n",
    "    geo_df_UTM = geo_df.to_crs({'init':\"EPSG:3395\"})\n",
    "    print(f\"geo_df_UTM.crs: {geo_df_UTM.crs}\")\n",
    "\n",
    "    #create an AOI box\n",
    "    #polygon_buffer= geo_df_UTM.buffer(500).envelope\n",
    "    polygon_buffer= geo_df_UTM.buffer(700).envelope\n",
    "\n",
    "    #Replace point data with polygon data\n",
    "    geo_df_UTM['geometry'] = polygon_buffer\n",
    "\n",
    "    geo_df_UTM['plantID']=np.arange(len(geo_df_UTM))\n",
    "\n",
    "    '''Only include China\n",
    "    '''\n",
    "\n",
    "    df_china = geo_df_UTM[geo_df_UTM.iso3=='CHN']\n",
    "    df_china = df_china[df_china.accuracy=='Exact']\n",
    "    if planttype == 'cement':\n",
    "        print('cement plant')\n",
    "        df_china= df_china[df_china.plant_type == 'Integrated']\n",
    "    else:\n",
    "        print('steel plant')\n",
    "\n",
    "    #for cement only: get integrated plants only\n",
    "\n",
    "    return df_china"
   ],
   "metadata": {
    "collapsed": false,
    "pycharm": {
     "name": "#%%\n"
    }
   }
  },
  {
   "cell_type": "markdown",
   "source": [
    "### STEEL"
   ],
   "metadata": {
    "collapsed": false
   }
  },
  {
   "cell_type": "code",
   "execution_count": null,
   "outputs": [],
   "source": [
    "steel = create_polys(steelpath,'steel_dataset_v3.1.xlsx','steel')"
   ],
   "metadata": {
    "collapsed": false,
    "pycharm": {
     "name": "#%%\n"
    }
   }
  },
  {
   "cell_type": "code",
   "execution_count": null,
   "outputs": [],
   "source": [
    "#a.to_file(os.path.join(path,'2_steeldatasetv3_UTM_CHINA_exactlocPOLYS.geojson'), driver='GeoJSON')\n",
    "steel.to_file(os.path.join(steelpath,'2_steeldatasetv3_UTM_CHINA_exactlocPOLYS_700m.geojson'), driver='GeoJSON')"
   ],
   "metadata": {
    "collapsed": false,
    "pycharm": {
     "name": "#%%\n"
    }
   }
  },
  {
   "cell_type": "markdown",
   "source": [
    "Try to make the shapefile so that it extracts 256 by 256 pixels"
   ],
   "metadata": {
    "collapsed": false
   }
  },
  {
   "cell_type": "markdown",
   "source": [
    "### cement"
   ],
   "metadata": {
    "collapsed": false
   }
  },
  {
   "cell_type": "code",
   "execution_count": 4,
   "outputs": [
    {
     "name": "stderr",
     "output_type": "stream",
     "text": [
      "C:\\Users\\Georgios.Voulgaris\\Anaconda3\\envs\\GeoEnv\\lib\\site-packages\\pyproj\\crs\\crs.py:131: FutureWarning: '+init=<authority>:<code>' syntax is deprecated. '<authority>:<code>' is the preferred initialization method. When making the change, be mindful of axis order changes: https://pyproj4.github.io/pyproj/stable/gotchas.html#axis-order-changes-in-proj-6\n",
      "  in_crs_string = _prepare_from_proj_string(in_crs_string)\n"
     ]
    },
    {
     "name": "stdout",
     "output_type": "stream",
     "text": [
      "geo_df_UTM.crs: +init=epsg:3395 +type=crs\n",
      "cement plant\n"
     ]
    },
    {
     "data": {
      "text/plain": "             uid                           city          state country iso3  \\\n295  GACTCHN0001                       Wuhu Shi    Anhui Sheng   China  CHN   \n296  GACTCHN0002                   Yongzhou Shi    Hunan Sheng   China  CHN   \n297  GACTCHN0003                       Wuhu Shi    Anhui Sheng   China  CHN   \n298  GACTCHN0004  Qiannan Buyizumiaozuzizhizhou  Guizhou Sheng   China  CHN   \n299  GACTCHN0005                  Xuancheng Shi    Anhui Sheng   China  CHN   \n\n     country_code region    sub_region   latitude   longitude  ...  \\\n295         156.0   Asia  Eastern Asia  31.229955  118.380624  ...   \n296         156.0   Asia  Eastern Asia  26.720854  111.833275  ...   \n297         156.0   Asia  Eastern Asia  31.137582  118.169276  ...   \n298         156.0   Asia  Eastern Asia  26.615974  107.241019  ...   \n299         156.0   Asia  Eastern Asia  30.687769  118.887302  ...   \n\n    parent_exchange parent_permid_2 parent_name_2 ownership_stake_2  \\\n295             SHH             NaN           NaN               NaN   \n296             SHH             NaN           NaN               NaN   \n297             SHH             NaN           NaN               NaN   \n298             SHH             NaN           NaN               NaN   \n299             SHH             NaN           NaN               NaN   \n\n     parent_lei_2 parent_holding_status_2  parent_ticker_2  parent_exchange_2  \\\n295           NaN                     NaN              NaN                NaN   \n296           NaN                     NaN              NaN                NaN   \n297           NaN                     NaN              NaN                NaN   \n298           NaN                     NaN              NaN                NaN   \n299           NaN                     NaN              NaN                NaN   \n\n                                              geometry plantID  \n295  POLYGON ((13177370.783 3639798.392, 13178770.7...     295  \n296  POLYGON ((12448523.227 3068731.797, 12449923.2...     296  \n297  POLYGON ((13153843.632 3627837.769, 13155243.6...     297  \n298  POLYGON ((11937315.627 3055736.669, 11938715.6...     298  \n299  POLYGON ((13233773.920 3569762.211, 13235173.9...     299  \n\n[5 rows x 36 columns]",
      "text/html": "<div>\n<style scoped>\n    .dataframe tbody tr th:only-of-type {\n        vertical-align: middle;\n    }\n\n    .dataframe tbody tr th {\n        vertical-align: top;\n    }\n\n    .dataframe thead th {\n        text-align: right;\n    }\n</style>\n<table border=\"1\" class=\"dataframe\">\n  <thead>\n    <tr style=\"text-align: right;\">\n      <th></th>\n      <th>uid</th>\n      <th>city</th>\n      <th>state</th>\n      <th>country</th>\n      <th>iso3</th>\n      <th>country_code</th>\n      <th>region</th>\n      <th>sub_region</th>\n      <th>latitude</th>\n      <th>longitude</th>\n      <th>...</th>\n      <th>parent_exchange</th>\n      <th>parent_permid_2</th>\n      <th>parent_name_2</th>\n      <th>ownership_stake_2</th>\n      <th>parent_lei_2</th>\n      <th>parent_holding_status_2</th>\n      <th>parent_ticker_2</th>\n      <th>parent_exchange_2</th>\n      <th>geometry</th>\n      <th>plantID</th>\n    </tr>\n  </thead>\n  <tbody>\n    <tr>\n      <th>295</th>\n      <td>GACTCHN0001</td>\n      <td>Wuhu Shi</td>\n      <td>Anhui Sheng</td>\n      <td>China</td>\n      <td>CHN</td>\n      <td>156.0</td>\n      <td>Asia</td>\n      <td>Eastern Asia</td>\n      <td>31.229955</td>\n      <td>118.380624</td>\n      <td>...</td>\n      <td>SHH</td>\n      <td>NaN</td>\n      <td>NaN</td>\n      <td>NaN</td>\n      <td>NaN</td>\n      <td>NaN</td>\n      <td>NaN</td>\n      <td>NaN</td>\n      <td>POLYGON ((13177370.783 3639798.392, 13178770.7...</td>\n      <td>295</td>\n    </tr>\n    <tr>\n      <th>296</th>\n      <td>GACTCHN0002</td>\n      <td>Yongzhou Shi</td>\n      <td>Hunan Sheng</td>\n      <td>China</td>\n      <td>CHN</td>\n      <td>156.0</td>\n      <td>Asia</td>\n      <td>Eastern Asia</td>\n      <td>26.720854</td>\n      <td>111.833275</td>\n      <td>...</td>\n      <td>SHH</td>\n      <td>NaN</td>\n      <td>NaN</td>\n      <td>NaN</td>\n      <td>NaN</td>\n      <td>NaN</td>\n      <td>NaN</td>\n      <td>NaN</td>\n      <td>POLYGON ((12448523.227 3068731.797, 12449923.2...</td>\n      <td>296</td>\n    </tr>\n    <tr>\n      <th>297</th>\n      <td>GACTCHN0003</td>\n      <td>Wuhu Shi</td>\n      <td>Anhui Sheng</td>\n      <td>China</td>\n      <td>CHN</td>\n      <td>156.0</td>\n      <td>Asia</td>\n      <td>Eastern Asia</td>\n      <td>31.137582</td>\n      <td>118.169276</td>\n      <td>...</td>\n      <td>SHH</td>\n      <td>NaN</td>\n      <td>NaN</td>\n      <td>NaN</td>\n      <td>NaN</td>\n      <td>NaN</td>\n      <td>NaN</td>\n      <td>NaN</td>\n      <td>POLYGON ((13153843.632 3627837.769, 13155243.6...</td>\n      <td>297</td>\n    </tr>\n    <tr>\n      <th>298</th>\n      <td>GACTCHN0004</td>\n      <td>Qiannan Buyizumiaozuzizhizhou</td>\n      <td>Guizhou Sheng</td>\n      <td>China</td>\n      <td>CHN</td>\n      <td>156.0</td>\n      <td>Asia</td>\n      <td>Eastern Asia</td>\n      <td>26.615974</td>\n      <td>107.241019</td>\n      <td>...</td>\n      <td>SHH</td>\n      <td>NaN</td>\n      <td>NaN</td>\n      <td>NaN</td>\n      <td>NaN</td>\n      <td>NaN</td>\n      <td>NaN</td>\n      <td>NaN</td>\n      <td>POLYGON ((11937315.627 3055736.669, 11938715.6...</td>\n      <td>298</td>\n    </tr>\n    <tr>\n      <th>299</th>\n      <td>GACTCHN0005</td>\n      <td>Xuancheng Shi</td>\n      <td>Anhui Sheng</td>\n      <td>China</td>\n      <td>CHN</td>\n      <td>156.0</td>\n      <td>Asia</td>\n      <td>Eastern Asia</td>\n      <td>30.687769</td>\n      <td>118.887302</td>\n      <td>...</td>\n      <td>SHH</td>\n      <td>NaN</td>\n      <td>NaN</td>\n      <td>NaN</td>\n      <td>NaN</td>\n      <td>NaN</td>\n      <td>NaN</td>\n      <td>NaN</td>\n      <td>POLYGON ((13233773.920 3569762.211, 13235173.9...</td>\n      <td>299</td>\n    </tr>\n  </tbody>\n</table>\n<p>5 rows × 36 columns</p>\n</div>"
     },
     "execution_count": 4,
     "metadata": {},
     "output_type": "execute_result"
    }
   ],
   "source": [
    "cem = create_polys(cempath, 'SFI-Global-Cement-Database-July-2021.xlsx', 'cement')\n",
    "cem.head()"
   ],
   "metadata": {
    "collapsed": false,
    "pycharm": {
     "name": "#%%\n"
    }
   }
  },
  {
   "cell_type": "code",
   "execution_count": 5,
   "outputs": [],
   "source": [
    "china2 = cem.set_crs(epsg = 3395, allow_override=True)"
   ],
   "metadata": {
    "collapsed": false,
    "pycharm": {
     "name": "#%%\n"
    }
   }
  },
  {
   "cell_type": "code",
   "execution_count": 6,
   "outputs": [
    {
     "data": {
      "text/plain": "             uid                           city          state country iso3  \\\n295  GACTCHN0001                       Wuhu Shi    Anhui Sheng   China  CHN   \n296  GACTCHN0002                   Yongzhou Shi    Hunan Sheng   China  CHN   \n297  GACTCHN0003                       Wuhu Shi    Anhui Sheng   China  CHN   \n298  GACTCHN0004  Qiannan Buyizumiaozuzizhizhou  Guizhou Sheng   China  CHN   \n299  GACTCHN0005                  Xuancheng Shi    Anhui Sheng   China  CHN   \n\n     country_code region    sub_region   latitude   longitude  ...  \\\n295         156.0   Asia  Eastern Asia  31.229955  118.380624  ...   \n296         156.0   Asia  Eastern Asia  26.720854  111.833275  ...   \n297         156.0   Asia  Eastern Asia  31.137582  118.169276  ...   \n298         156.0   Asia  Eastern Asia  26.615974  107.241019  ...   \n299         156.0   Asia  Eastern Asia  30.687769  118.887302  ...   \n\n    parent_exchange parent_permid_2 parent_name_2 ownership_stake_2  \\\n295             SHH             NaN           NaN               NaN   \n296             SHH             NaN           NaN               NaN   \n297             SHH             NaN           NaN               NaN   \n298             SHH             NaN           NaN               NaN   \n299             SHH             NaN           NaN               NaN   \n\n     parent_lei_2 parent_holding_status_2  parent_ticker_2  parent_exchange_2  \\\n295           NaN                     NaN              NaN                NaN   \n296           NaN                     NaN              NaN                NaN   \n297           NaN                     NaN              NaN                NaN   \n298           NaN                     NaN              NaN                NaN   \n299           NaN                     NaN              NaN                NaN   \n\n                                              geometry plantID  \n295  POLYGON ((13177370.783 3639798.392, 13178770.7...     295  \n296  POLYGON ((12448523.227 3068731.797, 12449923.2...     296  \n297  POLYGON ((13153843.632 3627837.769, 13155243.6...     297  \n298  POLYGON ((11937315.627 3055736.669, 11938715.6...     298  \n299  POLYGON ((13233773.920 3569762.211, 13235173.9...     299  \n\n[5 rows x 36 columns]",
      "text/html": "<div>\n<style scoped>\n    .dataframe tbody tr th:only-of-type {\n        vertical-align: middle;\n    }\n\n    .dataframe tbody tr th {\n        vertical-align: top;\n    }\n\n    .dataframe thead th {\n        text-align: right;\n    }\n</style>\n<table border=\"1\" class=\"dataframe\">\n  <thead>\n    <tr style=\"text-align: right;\">\n      <th></th>\n      <th>uid</th>\n      <th>city</th>\n      <th>state</th>\n      <th>country</th>\n      <th>iso3</th>\n      <th>country_code</th>\n      <th>region</th>\n      <th>sub_region</th>\n      <th>latitude</th>\n      <th>longitude</th>\n      <th>...</th>\n      <th>parent_exchange</th>\n      <th>parent_permid_2</th>\n      <th>parent_name_2</th>\n      <th>ownership_stake_2</th>\n      <th>parent_lei_2</th>\n      <th>parent_holding_status_2</th>\n      <th>parent_ticker_2</th>\n      <th>parent_exchange_2</th>\n      <th>geometry</th>\n      <th>plantID</th>\n    </tr>\n  </thead>\n  <tbody>\n    <tr>\n      <th>295</th>\n      <td>GACTCHN0001</td>\n      <td>Wuhu Shi</td>\n      <td>Anhui Sheng</td>\n      <td>China</td>\n      <td>CHN</td>\n      <td>156.0</td>\n      <td>Asia</td>\n      <td>Eastern Asia</td>\n      <td>31.229955</td>\n      <td>118.380624</td>\n      <td>...</td>\n      <td>SHH</td>\n      <td>NaN</td>\n      <td>NaN</td>\n      <td>NaN</td>\n      <td>NaN</td>\n      <td>NaN</td>\n      <td>NaN</td>\n      <td>NaN</td>\n      <td>POLYGON ((13177370.783 3639798.392, 13178770.7...</td>\n      <td>295</td>\n    </tr>\n    <tr>\n      <th>296</th>\n      <td>GACTCHN0002</td>\n      <td>Yongzhou Shi</td>\n      <td>Hunan Sheng</td>\n      <td>China</td>\n      <td>CHN</td>\n      <td>156.0</td>\n      <td>Asia</td>\n      <td>Eastern Asia</td>\n      <td>26.720854</td>\n      <td>111.833275</td>\n      <td>...</td>\n      <td>SHH</td>\n      <td>NaN</td>\n      <td>NaN</td>\n      <td>NaN</td>\n      <td>NaN</td>\n      <td>NaN</td>\n      <td>NaN</td>\n      <td>NaN</td>\n      <td>POLYGON ((12448523.227 3068731.797, 12449923.2...</td>\n      <td>296</td>\n    </tr>\n    <tr>\n      <th>297</th>\n      <td>GACTCHN0003</td>\n      <td>Wuhu Shi</td>\n      <td>Anhui Sheng</td>\n      <td>China</td>\n      <td>CHN</td>\n      <td>156.0</td>\n      <td>Asia</td>\n      <td>Eastern Asia</td>\n      <td>31.137582</td>\n      <td>118.169276</td>\n      <td>...</td>\n      <td>SHH</td>\n      <td>NaN</td>\n      <td>NaN</td>\n      <td>NaN</td>\n      <td>NaN</td>\n      <td>NaN</td>\n      <td>NaN</td>\n      <td>NaN</td>\n      <td>POLYGON ((13153843.632 3627837.769, 13155243.6...</td>\n      <td>297</td>\n    </tr>\n    <tr>\n      <th>298</th>\n      <td>GACTCHN0004</td>\n      <td>Qiannan Buyizumiaozuzizhizhou</td>\n      <td>Guizhou Sheng</td>\n      <td>China</td>\n      <td>CHN</td>\n      <td>156.0</td>\n      <td>Asia</td>\n      <td>Eastern Asia</td>\n      <td>26.615974</td>\n      <td>107.241019</td>\n      <td>...</td>\n      <td>SHH</td>\n      <td>NaN</td>\n      <td>NaN</td>\n      <td>NaN</td>\n      <td>NaN</td>\n      <td>NaN</td>\n      <td>NaN</td>\n      <td>NaN</td>\n      <td>POLYGON ((11937315.627 3055736.669, 11938715.6...</td>\n      <td>298</td>\n    </tr>\n    <tr>\n      <th>299</th>\n      <td>GACTCHN0005</td>\n      <td>Xuancheng Shi</td>\n      <td>Anhui Sheng</td>\n      <td>China</td>\n      <td>CHN</td>\n      <td>156.0</td>\n      <td>Asia</td>\n      <td>Eastern Asia</td>\n      <td>30.687769</td>\n      <td>118.887302</td>\n      <td>...</td>\n      <td>SHH</td>\n      <td>NaN</td>\n      <td>NaN</td>\n      <td>NaN</td>\n      <td>NaN</td>\n      <td>NaN</td>\n      <td>NaN</td>\n      <td>NaN</td>\n      <td>POLYGON ((13233773.920 3569762.211, 13235173.9...</td>\n      <td>299</td>\n    </tr>\n  </tbody>\n</table>\n<p>5 rows × 36 columns</p>\n</div>"
     },
     "execution_count": 6,
     "metadata": {},
     "output_type": "execute_result"
    }
   ],
   "source": [
    "china2.head()"
   ],
   "metadata": {
    "collapsed": false,
    "pycharm": {
     "name": "#%%\n"
    }
   }
  },
  {
   "cell_type": "code",
   "execution_count": 7,
   "outputs": [
    {
     "data": {
      "text/plain": "<AxesSubplot:>"
     },
     "execution_count": 7,
     "metadata": {},
     "output_type": "execute_result"
    },
    {
     "data": {
      "text/plain": "<Figure size 432x288 with 1 Axes>",
      "image/png": "[encoded data removed]"
     },
     "metadata": {
      "needs_background": "light"
     },
     "output_type": "display_data"
    }
   ],
   "source": [
    "china2.plot()"
   ],
   "metadata": {
    "collapsed": false,
    "pycharm": {
     "name": "#%%\n"
    }
   }
  },
  {
   "cell_type": "code",
   "execution_count": 8,
   "outputs": [
    {
     "data": {
      "text/plain": "<Derived Projected CRS: EPSG:3395>\nName: WGS 84 / World Mercator\nAxis Info [cartesian]:\n- E[east]: Easting (metre)\n- N[north]: Northing (metre)\nArea of Use:\n- name: World between 80°S and 84°N.\n- bounds: (-180.0, -80.0, 180.0, 84.0)\nCoordinate Operation:\n- name: World Mercator\n- method: Mercator (variant A)\nDatum: World Geodetic System 1984 ensemble\n- Ellipsoid: WGS 84\n- Prime Meridian: Greenwich"
     },
     "execution_count": 8,
     "metadata": {},
     "output_type": "execute_result"
    }
   ],
   "source": [
    "china2.crs"
   ],
   "metadata": {
    "collapsed": false,
    "pycharm": {
     "name": "#%%\n"
    }
   }
  },
  {
   "cell_type": "code",
   "execution_count": 9,
   "outputs": [
    {
     "data": {
      "text/plain": "<Derived Projected CRS: EPSG:3395>\nName: WGS 84 / World Mercator\nAxis Info [cartesian]:\n- E[east]: Easting (metre)\n- N[north]: Northing (metre)\nArea of Use:\n- name: World between 80°S and 84°N.\n- bounds: (-180.0, -80.0, 180.0, 84.0)\nCoordinate Operation:\n- name: World Mercator\n- method: Mercator (variant A)\nDatum: World Geodetic System 1984 ensemble\n- Ellipsoid: WGS 84\n- Prime Meridian: Greenwich"
     },
     "execution_count": 9,
     "metadata": {},
     "output_type": "execute_result"
    }
   ],
   "source": [
    "cem.crs"
   ],
   "metadata": {
    "collapsed": false,
    "pycharm": {
     "name": "#%%\n"
    }
   }
  },
  {
   "cell_type": "code",
   "execution_count": 10,
   "outputs": [
    {
     "name": "stderr",
     "output_type": "stream",
     "text": [
      "C:\\Users\\Georgios.Voulgaris\\Anaconda3\\envs\\GeoEnv\\lib\\site-packages\\geopandas\\io\\file.py:362: FutureWarning: pandas.Int64Index is deprecated and will be removed from pandas in a future version. Use pandas.Index with the appropriate dtype instead.\n",
      "  pd.Int64Index,\n"
     ]
    }
   ],
   "source": [
    "china2.to_file(os.path.join(cempath, 'China_2.geojson'), driver='GeoJSON')"
   ],
   "metadata": {
    "collapsed": false,
    "pycharm": {
     "name": "#%%\n"
    }
   }
  },
  {
   "cell_type": "code",
   "execution_count": 11,
   "outputs": [
    {
     "name": "stderr",
     "output_type": "stream",
     "text": [
      "C:\\Users\\Georgios.Voulgaris\\Anaconda3\\envs\\GeoEnv\\lib\\site-packages\\geopandas\\io\\file.py:362: FutureWarning: pandas.Int64Index is deprecated and will be removed from pandas in a future version. Use pandas.Index with the appropriate dtype instead.\n",
      "  pd.Int64Index,\n"
     ]
    }
   ],
   "source": [
    "cem.to_file(os.path.join(cempath,'4_cementdatasetv3_UTM_CHINA_exactlocPOLYS_1km.geojson'), driver='GeoJSON')"
   ],
   "metadata": {
    "collapsed": false,
    "pycharm": {
     "name": "#%%\n"
    }
   }
  },
  {
   "cell_type": "code",
   "execution_count": 12,
   "outputs": [
    {
     "name": "stdout",
     "output_type": "stream",
     "text": [
      "3.10.2 | packaged by conda-forge | (main, Feb  1 2022, 19:26:10) [MSC v.1929 64 bit (AMD64)]\n",
      "3.3.0\n",
      "0.10.2\n"
     ]
    }
   ],
   "source": [
    "import sys\n",
    "import pyproj\n",
    "import geopandas\n",
    "print(sys.version)\n",
    "print(pyproj.__version__)\n",
    "print(geopandas.__version__)"
   ],
   "metadata": {
    "collapsed": false,
    "pycharm": {
     "name": "#%%\n"
    }
   }
  },
  {
   "cell_type": "code",
   "execution_count": 13,
   "outputs": [
    {
     "data": {
      "text/plain": "'C:\\\\Users\\\\Georgios.Voulgaris\\\\Anaconda3\\\\envs\\\\GeoEnv\\\\Library\\\\share\\\\proj'"
     },
     "execution_count": 13,
     "metadata": {},
     "output_type": "execute_result"
    }
   ],
   "source": [
    "import pyproj\n",
    "pyproj.datadir.get_data_dir()"
   ],
   "metadata": {
    "collapsed": false,
    "pycharm": {
     "name": "#%%\n"
    }
   }
  },
  {
   "cell_type": "markdown",
   "source": [
    "# landcover"
   ],
   "metadata": {
    "collapsed": false
   }
  },
  {
   "cell_type": "code",
   "execution_count": 14,
   "outputs": [],
   "source": [
    "def get_lc_centrepoints(path, filename):\n",
    "    '''Creates landcover samples around cement China plants\n",
    "    '''\n",
    "\n",
    "    #open the file\n",
    "    df = pd.read_excel(os.path.join(path, filename))\n",
    "\n",
    "    #make sure there's no NaN location\n",
    "    df = df[df['latitude'].notnull()]\n",
    "\n",
    "    #define the geometry\n",
    "    geometry = [Point(xy) for xy in zip(df.longitude, df.latitude)]\n",
    "    #Create a geodataframe\n",
    "    crs = {'init': 'epsg:4326'} #http://www.spatialreference.org/ref/epsg/2263/\n",
    "    geo_df = gpd.GeoDataFrame(df, crs=crs, geometry=geometry)\n",
    "\n",
    "    #Convert crs to UTM\n",
    "    geo_df_UTM = geo_df.to_crs({'init':\"EPSG:3395\"})\n",
    "    print(f\"geo_df_UTM.crs: {geo_df_UTM.crs}\")\n",
    "\n",
    "    df_china = geo_df_UTM[geo_df_UTM.iso3=='CHN']\n",
    "    df_china = df_china[df_china.accuracy=='Exact']\n",
    "    df_china= df_china[df_china.plant_type == 'Integrated']\n",
    "    # print(f\"china: {df_china}\")\n",
    "\n",
    "\n",
    "    #create a HUGE buffer to sample landcover samples\n",
    "    gdf_buffer=df_china.buffer(3500).envelope\n",
    "    # print(f\"gdf_buffer: {gdf_buffer.head()}\")\n",
    "\n",
    "    '''Intersect large squares so they do not interact with each other\n",
    "    '''\n",
    "    union = gdf_buffer.unary_union\n",
    "    gdf_union = gpd.GeoDataFrame(crs=gdf_buffer.crs, geometry=[union])\n",
    "\n",
    "    \"\"\"\n",
    "    gdf_union = gpd.GeoDataFrame()\n",
    "    #Union the polygons so any that overlap become one\n",
    "\n",
    "    gdf_union['geometry'] = gdf_buffer.unary_union\n",
    "    # gdf_union['geometry'] = gdf_buffer # .unary_union\n",
    "    gdf_union.crs={'init': 'EPSG:3395'}\n",
    "    print(f\"gdf_union: {gdf_union}\")\n",
    "    \"\"\"\n",
    "\n",
    "    '''Get the coordinates of the large polygons around which\n",
    "    landcover samples will be generated\n",
    "    '''\n",
    "\n",
    "    # explodes multipolygon to polygon\n",
    "    exploded = gdf_union.explode()\n",
    "\n",
    "    #get the number of nodes in each polygon\n",
    "    #coords_list = []\n",
    "    point_list = []\n",
    "    IDs = []\n",
    "    for index, row in exploded.iterrows():\n",
    "        #if row['geometry'].type == 'Polygon':\n",
    "        coords = list(row['geometry'].exterior.coords)\n",
    "        #onecoord = row['outlines'].exterior.coords\n",
    "\n",
    "        #create a point for each coordinate\n",
    "        for item in coords:\n",
    "            points = Point(item)\n",
    "            point_list.append(points)\n",
    "            IDs.append(index)\n",
    "\n",
    "    # print(id)\n",
    "    # print(f\"point_list: {point_list}\")\n",
    "    # print(f\"IDs list: {IDs}\")\n",
    "    gdf_points = gpd.GeoDataFrame(columns=['id'])\n",
    "    gdf_points['geometry'] = point_list\n",
    "    #define the coordinates for the points\n",
    "    gdf_points.crs = \"EPSG:3395\"\n",
    "    # print(f\"gdf: {gdf_points}\")\n",
    "\n",
    "    ''' Create the buffers around each landcover polygon\n",
    "    '''\n",
    "    polygon_buffer = gdf_points.buffer(700).envelope\n",
    "    polygon_buffer = gpd.GeoDataFrame(columns=['ID'], crs=polygon_buffer.crs, geometry=polygon_buffer)\n",
    "    # polygon_buffer.crs = \"EPSG:3395\"\n",
    "    print(f\"polygon buffer: {polygon_buffer}\")\n",
    "\n",
    "    \"\"\"# print(f\"point_list: {point_list}\")\n",
    "    # print(f\"IDs list: {IDs}\")\n",
    "    gdf_points = gpd.GeoDataFrame()\n",
    "    gdf_points['geometry'] = point_list\n",
    "    #define the coordinates for the points\n",
    "    gdf_points.crs = \"EPSG:3395\"\n",
    "    print(f\"gdf: {gdf_points}\")\n",
    "\n",
    "    ''' Create the buffers around each landcover polygon\n",
    "    '''\n",
    "    polygon_buffer= gdf_points.buffer(700).envelope\n",
    "    polygon_buffer.crs = \"EPSG:3395\"\n",
    "    print(f\"polygon buffer: {polygon_buffer}\")\"\"\"\n",
    "\n",
    "\n",
    "    return polygon_buffer\n"
   ],
   "metadata": {
    "collapsed": false,
    "pycharm": {
     "name": "#%%\n"
    }
   }
  },
  {
   "cell_type": "code",
   "execution_count": 15,
   "outputs": [
    {
     "name": "stderr",
     "output_type": "stream",
     "text": [
      "C:\\Users\\Georgios.Voulgaris\\Anaconda3\\envs\\GeoEnv\\lib\\site-packages\\pyproj\\crs\\crs.py:131: FutureWarning: '+init=<authority>:<code>' syntax is deprecated. '<authority>:<code>' is the preferred initialization method. When making the change, be mindful of axis order changes: https://pyproj4.github.io/pyproj/stable/gotchas.html#axis-order-changes-in-proj-6\n",
      "  in_crs_string = _prepare_from_proj_string(in_crs_string)\n",
      "C:\\Users\\Georgios.Voulgaris\\Anaconda3\\envs\\GeoEnv\\lib\\site-packages\\pyproj\\crs\\crs.py:131: FutureWarning: '+init=<authority>:<code>' syntax is deprecated. '<authority>:<code>' is the preferred initialization method. When making the change, be mindful of axis order changes: https://pyproj4.github.io/pyproj/stable/gotchas.html#axis-order-changes-in-proj-6\n",
      "  in_crs_string = _prepare_from_proj_string(in_crs_string)\n"
     ]
    },
    {
     "name": "stdout",
     "output_type": "stream",
     "text": [
      "geo_df_UTM.crs: +init=epsg:3395 +type=crs\n"
     ]
    },
    {
     "name": "stderr",
     "output_type": "stream",
     "text": [
      "C:\\Users\\Georgios.Voulgaris\\AppData\\Local\\Temp\\ipykernel_18164\\2084955817.py:51: FutureWarning: Currently, index_parts defaults to True, but in the future, it will default to False to be consistent with Pandas. Use `index_parts=True` to keep the current behavior and True/False to silence the warning.\n",
      "  exploded = gdf_union.explode()\n"
     ]
    },
    {
     "name": "stdout",
     "output_type": "stream",
     "text": [
      "polygon buffer:        ID                                           geometry\n",
      "0     NaN  POLYGON ((11244771.245 2487164.046, 11246171.2...\n",
      "1     NaN  POLYGON ((11251771.245 2487164.046, 11253171.2...\n",
      "2     NaN  POLYGON ((11251771.245 2480164.046, 11253171.2...\n",
      "3     NaN  POLYGON ((11244771.245 2480164.046, 11246171.2...\n",
      "4     NaN  POLYGON ((11244771.245 2487164.046, 11246171.2...\n",
      "...   ...                                                ...\n",
      "4363  NaN  POLYGON ((13718606.708 6514174.636, 13720006.7...\n",
      "4364  NaN  POLYGON ((13718606.708 6507174.636, 13720006.7...\n",
      "4365  NaN  POLYGON ((13711606.708 6507174.636, 13713006.7...\n",
      "4366  NaN  POLYGON ((13711606.708 6514174.636, 13713006.7...\n",
      "4367  NaN  POLYGON ((13718606.708 6514174.636, 13720006.7...\n",
      "\n",
      "[4368 rows x 2 columns]\n"
     ]
    },
    {
     "data": {
      "text/plain": "    ID                                           geometry\n0  NaN  POLYGON ((11244771.245 2487164.046, 11246171.2...\n1  NaN  POLYGON ((11251771.245 2487164.046, 11253171.2...\n2  NaN  POLYGON ((11251771.245 2480164.046, 11253171.2...\n3  NaN  POLYGON ((11244771.245 2480164.046, 11246171.2...\n4  NaN  POLYGON ((11244771.245 2487164.046, 11246171.2...",
      "text/html": "<div>\n<style scoped>\n    .dataframe tbody tr th:only-of-type {\n        vertical-align: middle;\n    }\n\n    .dataframe tbody tr th {\n        vertical-align: top;\n    }\n\n    .dataframe thead th {\n        text-align: right;\n    }\n</style>\n<table border=\"1\" class=\"dataframe\">\n  <thead>\n    <tr style=\"text-align: right;\">\n      <th></th>\n      <th>ID</th>\n      <th>geometry</th>\n    </tr>\n  </thead>\n  <tbody>\n    <tr>\n      <th>0</th>\n      <td>NaN</td>\n      <td>POLYGON ((11244771.245 2487164.046, 11246171.2...</td>\n    </tr>\n    <tr>\n      <th>1</th>\n      <td>NaN</td>\n      <td>POLYGON ((11251771.245 2487164.046, 11253171.2...</td>\n    </tr>\n    <tr>\n      <th>2</th>\n      <td>NaN</td>\n      <td>POLYGON ((11251771.245 2480164.046, 11253171.2...</td>\n    </tr>\n    <tr>\n      <th>3</th>\n      <td>NaN</td>\n      <td>POLYGON ((11244771.245 2480164.046, 11246171.2...</td>\n    </tr>\n    <tr>\n      <th>4</th>\n      <td>NaN</td>\n      <td>POLYGON ((11244771.245 2487164.046, 11246171.2...</td>\n    </tr>\n  </tbody>\n</table>\n</div>"
     },
     "execution_count": 15,
     "metadata": {},
     "output_type": "execute_result"
    }
   ],
   "source": [
    "lc = get_lc_centrepoints(cempath, 'SFI-Global-Cement-Database-July-2021.xlsx')\n",
    "lc.head()"
   ],
   "metadata": {
    "collapsed": false,
    "pycharm": {
     "name": "#%%\n"
    }
   }
  },
  {
   "cell_type": "code",
   "execution_count": 17,
   "outputs": [
    {
     "name": "stdout",
     "output_type": "stream",
     "text": [
      "        ID                                           geometry\n",
      "0        0  POLYGON ((11244771.245 2487164.046, 11246171.2...\n",
      "1        1  POLYGON ((11251771.245 2487164.046, 11253171.2...\n",
      "2        2  POLYGON ((11251771.245 2480164.046, 11253171.2...\n",
      "3        3  POLYGON ((11244771.245 2480164.046, 11246171.2...\n",
      "4        4  POLYGON ((11244771.245 2487164.046, 11246171.2...\n",
      "...    ...                                                ...\n",
      "4363  4363  POLYGON ((13718606.708 6514174.636, 13720006.7...\n",
      "4364  4364  POLYGON ((13718606.708 6507174.636, 13720006.7...\n",
      "4365  4365  POLYGON ((13711606.708 6507174.636, 13713006.7...\n",
      "4366  4366  POLYGON ((13711606.708 6514174.636, 13713006.7...\n",
      "4367  4367  POLYGON ((13718606.708 6514174.636, 13720006.7...\n",
      "\n",
      "[4368 rows x 2 columns]\n"
     ]
    }
   ],
   "source": [
    "# Add ID. Useful for the final stage\n",
    "ID = []\n",
    "i = 1\n",
    "for i in range(4368):\n",
    "    CHN = i\n",
    "    ID.append(CHN)\n",
    "    i = i+1\n",
    "lc['ID'] = ID\n",
    "print(lc)"
   ],
   "metadata": {
    "collapsed": false,
    "pycharm": {
     "name": "#%%\n"
    }
   }
  },
  {
   "cell_type": "markdown",
   "source": [
    "    Now need to intersect with steel plants so we remove any lc polygon that touches steel plant samples --- had a look at the current data and actually this seems okay so ignoring here"
   ],
   "metadata": {
    "collapsed": false
   }
  },
  {
   "cell_type": "code",
   "execution_count": null,
   "outputs": [],
   "source": [
    "outpath = r'C:\\Users\\Georgios.Voulgaris\\PycharmProjects\\GeoMap\\data'"
   ],
   "metadata": {
    "collapsed": false,
    "pycharm": {
     "name": "#%%\n"
    }
   }
  },
  {
   "cell_type": "code",
   "execution_count": null,
   "outputs": [],
   "source": [
    "lc.to_file(os.path.join(outpath, 'LandCover_China_Cement.geojson'), driver='GeoJSON')"
   ],
   "metadata": {
    "collapsed": false,
    "pycharm": {
     "name": "#%%\n"
    }
   }
  },
  {
   "cell_type": "code",
   "execution_count": 18,
   "outputs": [
    {
     "data": {
      "text/plain": "   ID                                           geometry\n0   0  POLYGON ((11244771.245 2487164.046, 11246171.2...\n1   1  POLYGON ((11251771.245 2487164.046, 11253171.2...\n2   2  POLYGON ((11251771.245 2480164.046, 11253171.2...\n3   3  POLYGON ((11244771.245 2480164.046, 11246171.2...\n4   4  POLYGON ((11244771.245 2487164.046, 11246171.2...",
      "text/html": "<div>\n<style scoped>\n    .dataframe tbody tr th:only-of-type {\n        vertical-align: middle;\n    }\n\n    .dataframe tbody tr th {\n        vertical-align: top;\n    }\n\n    .dataframe thead th {\n        text-align: right;\n    }\n</style>\n<table border=\"1\" class=\"dataframe\">\n  <thead>\n    <tr style=\"text-align: right;\">\n      <th></th>\n      <th>ID</th>\n      <th>geometry</th>\n    </tr>\n  </thead>\n  <tbody>\n    <tr>\n      <th>0</th>\n      <td>0</td>\n      <td>POLYGON ((11244771.245 2487164.046, 11246171.2...</td>\n    </tr>\n    <tr>\n      <th>1</th>\n      <td>1</td>\n      <td>POLYGON ((11251771.245 2487164.046, 11253171.2...</td>\n    </tr>\n    <tr>\n      <th>2</th>\n      <td>2</td>\n      <td>POLYGON ((11251771.245 2480164.046, 11253171.2...</td>\n    </tr>\n    <tr>\n      <th>3</th>\n      <td>3</td>\n      <td>POLYGON ((11244771.245 2480164.046, 11246171.2...</td>\n    </tr>\n    <tr>\n      <th>4</th>\n      <td>4</td>\n      <td>POLYGON ((11244771.245 2487164.046, 11246171.2...</td>\n    </tr>\n  </tbody>\n</table>\n</div>"
     },
     "execution_count": 18,
     "metadata": {},
     "output_type": "execute_result"
    }
   ],
   "source": [
    "lc.head()"
   ],
   "metadata": {
    "collapsed": false,
    "pycharm": {
     "name": "#%%\n"
    }
   }
  },
  {
   "cell_type": "code",
   "execution_count": 19,
   "outputs": [
    {
     "data": {
      "text/plain": "<Derived Projected CRS: EPSG:3395>\nName: WGS 84 / World Mercator\nAxis Info [cartesian]:\n- E[east]: Easting (metre)\n- N[north]: Northing (metre)\nArea of Use:\n- name: World between 80°S and 84°N.\n- bounds: (-180.0, -80.0, 180.0, 84.0)\nCoordinate Operation:\n- name: World Mercator\n- method: Mercator (variant A)\nDatum: World Geodetic System 1984 ensemble\n- Ellipsoid: WGS 84\n- Prime Meridian: Greenwich"
     },
     "execution_count": 19,
     "metadata": {},
     "output_type": "execute_result"
    }
   ],
   "source": [
    "lc.crs"
   ],
   "metadata": {
    "collapsed": false,
    "pycharm": {
     "name": "#%%\n"
    }
   }
  },
  {
   "cell_type": "code",
   "execution_count": 20,
   "outputs": [
    {
     "data": {
      "text/plain": "ID             int64\ngeometry    geometry\ndtype: object"
     },
     "execution_count": 20,
     "metadata": {},
     "output_type": "execute_result"
    }
   ],
   "source": [
    "lc.dtypes"
   ],
   "metadata": {
    "collapsed": false,
    "pycharm": {
     "name": "#%%\n"
    }
   }
  },
  {
   "cell_type": "code",
   "execution_count": null,
   "outputs": [],
   "source": [],
   "metadata": {
    "collapsed": false,
    "pycharm": {
     "name": "#%%\n"
    }
   }
  }
 ],
 "metadata": {
  "kernelspec": {
   "display_name": "Python 3",
   "language": "python",
   "name": "python3"
  },
  "language_info": {
   "codemirror_mode": {
    "name": "ipython",
    "version": 2
   },
   "file_extension": ".py",
   "mimetype": "text/x-python",
   "name": "python",
   "nbconvert_exporter": "python",
   "pygments_lexer": "ipython2",
   "version": "2.7.6"
  }
 },
 "nbformat": 4,
 "nbformat_minor": 0
}